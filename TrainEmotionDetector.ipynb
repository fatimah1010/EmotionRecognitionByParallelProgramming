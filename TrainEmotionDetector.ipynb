{
 "cells": [
  {
   "cell_type": "code",
   "execution_count": 1,
   "metadata": {},
   "outputs": [],
   "source": [
    "import cv2\n",
    "import numpy as np\n",
    "from keras.models import Sequential\n",
    "from keras.layers import Conv2D, MaxPooling2D, Dense, Dropout, Flatten\n",
    "from keras.optimizers import Adam\n",
    "from keras.preprocessing.image import ImageDataGenerator\n",
    "import tensorflow as tf\n",
    "from keras.models import model_from_json\n",
    "import matplotlib.pyplot as plt\n"
   ]
  },
  {
   "cell_type": "code",
   "execution_count": 2,
   "metadata": {},
   "outputs": [],
   "source": [
    "# Avoid OOM errors by setting GPU Memory Consumption Growth where we are limiting the memory consumption of tensorflow\n",
    "gpus = tf.config.experimental.list_physical_devices('GPU')\n",
    "for gpu in gpus:\n",
    "    tf.config.experimental.set_memory_growth(gpu, True)"
   ]
  },
  {
   "cell_type": "markdown",
   "metadata": {},
   "source": [
    "# Preprocessing"
   ]
  },
  {
   "cell_type": "code",
   "execution_count": 3,
   "metadata": {},
   "outputs": [],
   "source": [
    "# Define a custom preprocessing function for sharpening\n",
    "def sharpen_image(image):\n",
    "    \n",
    "    gray = cv2.cvtColor(image, cv2.COLOR_BGR2GRAY)\n",
    "    # Apply Gaussian blur to reduce noise\n",
    "    blurred = cv2.GaussianBlur(gray, (0, 0), 3)# The kernal(0,0) , sigma=3 .\n",
    "\n",
    "    # Perform high-pass filtering for edge enhancement\n",
    "    #adding the weighted combination of the (gray) and (blurred). \n",
    "    # The weight of the grayscale image= 2 ,the weight of the blurred= -1 .\n",
    "    sharp = cv2.addWeighted(image, 2, blurred, -1, 0)\n",
    "    # Return the sharpened image\n",
    "    return sharp"
   ]
  },
  {
   "cell_type": "code",
   "execution_count": 4,
   "metadata": {},
   "outputs": [],
   "source": [
    "# Initialize image data generator with sharpening\n",
    "train_data_gen = ImageDataGenerator(preprocessing_function=sharpen_image)\n",
    "\n",
    "validation_data_gen = ImageDataGenerator(preprocessing_function=sharpen_image)\n"
   ]
  },
  {
   "cell_type": "code",
   "execution_count": 5,
   "metadata": {},
   "outputs": [],
   "source": [
    "# Initialize image data generator with rescaling\n",
    "#our max=255 and our min=0 so we want the minimum value so it can be easier to compute \n",
    "#make them between zero and one\n",
    "train_data_gen = ImageDataGenerator(rescale=1./255)\n",
    "validation_data_gen = ImageDataGenerator(rescale=1./255)"
   ]
  },
  {
   "cell_type": "code",
   "execution_count": 6,
   "metadata": {},
   "outputs": [
    {
     "name": "stdout",
     "output_type": "stream",
     "text": [
      "Found 23894 images belonging to 5 classes.\n"
     ]
    }
   ],
   "source": [
    "# Preprocess all train images\n",
    "#getting another batch every time we iterate\n",
    "#our images are converted to arrays and classified into labels \n",
    "train_generator = train_data_gen.flow_from_directory(\n",
    "    'train',\n",
    "    target_size=(48, 48),\n",
    "    batch_size=64,\n",
    "    color_mode=\"grayscale\",\n",
    "    class_mode='categorical')  # encoded labels for each class"
   ]
  },
  {
   "cell_type": "code",
   "execution_count": 7,
   "metadata": {},
   "outputs": [
    {
     "data": {
      "text/plain": [
       "374"
      ]
     },
     "execution_count": 7,
     "metadata": {},
     "output_type": "execute_result"
    }
   ],
   "source": [
    "len(train_generator)"
   ]
  },
  {
   "cell_type": "code",
   "execution_count": 8,
   "metadata": {},
   "outputs": [
    {
     "name": "stdout",
     "output_type": "stream",
     "text": [
      "Found 5989 images belonging to 5 classes.\n"
     ]
    }
   ],
   "source": [
    "# Preprocess all test images\n",
    "validation_generator = validation_data_gen.flow_from_directory(\n",
    "    'test',\n",
    "    target_size=(48, 48),\n",
    "    batch_size=64,\n",
    "    color_mode=\"grayscale\",\n",
    "    class_mode='categorical')"
   ]
  },
  {
   "cell_type": "code",
   "execution_count": 9,
   "metadata": {},
   "outputs": [
    {
     "data": {
      "text/plain": [
       "94"
      ]
     },
     "execution_count": 9,
     "metadata": {},
     "output_type": "execute_result"
    }
   ],
   "source": [
    "len(validation_generator)"
   ]
  },
  {
   "cell_type": "markdown",
   "metadata": {},
   "source": [
    "# Build Deep Learning Model"
   ]
  },
  {
   "cell_type": "code",
   "execution_count": 10,
   "metadata": {},
   "outputs": [],
   "source": [
    "# create model structure\n",
    "#our first layer is a 2d convolution with 16 filters where it extracts info to classifiy the image\n",
    "#3,3-->size of filter and 'relu' is converting any negative val to 0 and positive unchanged, it works for non-linear pattern\n",
    "\n",
    "emotion_model = Sequential()\n",
    "\n",
    "emotion_model.add(Conv2D(32, kernel_size=(3, 3), activation='relu', input_shape=(48, 48, 1)))\n",
    "emotion_model.add(Conv2D(64, kernel_size=(3, 3), activation='relu'))\n",
    "emotion_model.add(MaxPooling2D(pool_size=(2, 2)))#return max value of relu\n",
    "emotion_model.add(Dropout(0.25))\n",
    "\n",
    "emotion_model.add(Conv2D(128, kernel_size=(3, 3), activation='relu'))\n",
    "emotion_model.add(MaxPooling2D(pool_size=(2, 2)))\n",
    "emotion_model.add(Conv2D(128, kernel_size=(3, 3), activation='relu'))\n",
    "emotion_model.add(MaxPooling2D(pool_size=(2, 2)))\n",
    "emotion_model.add(Dropout(0.25))\n",
    "\n",
    "emotion_model.add(Flatten())\n",
    "\n",
    "emotion_model.add(Dense(1024, activation='relu'))\n",
    "emotion_model.add(Dropout(0.5))\n",
    "emotion_model.add(Dense(5, activation='softmax'))\n",
    "\n"
   ]
  },
  {
   "cell_type": "code",
   "execution_count": 11,
   "metadata": {},
   "outputs": [],
   "source": [
    "#tf.keras.optimizers.Optimizer??\n",
    "emotion_model.compile(loss='categorical_crossentropy', optimizer=Adam(learning_rate=0.0001, decay=1e-6), metrics=['accuracy'])"
   ]
  },
  {
   "cell_type": "code",
   "execution_count": 12,
   "metadata": {},
   "outputs": [
    {
     "name": "stdout",
     "output_type": "stream",
     "text": [
      "(None, 48, 48, 1)\n"
     ]
    }
   ],
   "source": [
    "print(emotion_model.input_shape)\n"
   ]
  },
  {
   "cell_type": "code",
   "execution_count": 13,
   "metadata": {},
   "outputs": [
    {
     "name": "stdout",
     "output_type": "stream",
     "text": [
      "Model: \"sequential\"\n",
      "_________________________________________________________________\n",
      " Layer (type)                Output Shape              Param #   \n",
      "=================================================================\n",
      " conv2d (Conv2D)             (None, 46, 46, 32)        320       \n",
      "                                                                 \n",
      " conv2d_1 (Conv2D)           (None, 44, 44, 64)        18496     \n",
      "                                                                 \n",
      " max_pooling2d (MaxPooling2D  (None, 22, 22, 64)       0         \n",
      " )                                                               \n",
      "                                                                 \n",
      " dropout (Dropout)           (None, 22, 22, 64)        0         \n",
      "                                                                 \n",
      " conv2d_2 (Conv2D)           (None, 20, 20, 128)       73856     \n",
      "                                                                 \n",
      " max_pooling2d_1 (MaxPooling  (None, 10, 10, 128)      0         \n",
      " 2D)                                                             \n",
      "                                                                 \n",
      " conv2d_3 (Conv2D)           (None, 8, 8, 128)         147584    \n",
      "                                                                 \n",
      " max_pooling2d_2 (MaxPooling  (None, 4, 4, 128)        0         \n",
      " 2D)                                                             \n",
      "                                                                 \n",
      " dropout_1 (Dropout)         (None, 4, 4, 128)         0         \n",
      "                                                                 \n",
      " flatten (Flatten)           (None, 2048)              0         \n",
      "                                                                 \n",
      " dense (Dense)               (None, 1024)              2098176   \n",
      "                                                                 \n",
      " dropout_2 (Dropout)         (None, 1024)              0         \n",
      "                                                                 \n",
      " dense_1 (Dense)             (None, 5)                 5125      \n",
      "                                                                 \n",
      "=================================================================\n",
      "Total params: 2,343,557\n",
      "Trainable params: 2,343,557\n",
      "Non-trainable params: 0\n",
      "_________________________________________________________________\n"
     ]
    }
   ],
   "source": [
    "emotion_model.summary()"
   ]
  },
  {
   "cell_type": "code",
   "execution_count": 14,
   "metadata": {},
   "outputs": [
    {
     "name": "stdout",
     "output_type": "stream",
     "text": [
      "Epoch 1/20\n",
      "374/374 [==============================] - 208s 551ms/step - loss: 1.5430 - accuracy: 0.3151 - val_loss: 1.4179 - val_accuracy: 0.4308\n",
      "Epoch 2/20\n",
      "374/374 [==============================] - 203s 543ms/step - loss: 1.3305 - accuracy: 0.4510 - val_loss: 1.2321 - val_accuracy: 0.4994\n",
      "Epoch 3/20\n",
      "374/374 [==============================] - 192s 514ms/step - loss: 1.2235 - accuracy: 0.5062 - val_loss: 1.1478 - val_accuracy: 0.5425\n",
      "Epoch 4/20\n",
      "374/374 [==============================] - 181s 483ms/step - loss: 1.1498 - accuracy: 0.5406 - val_loss: 1.0855 - val_accuracy: 0.5692\n",
      "Epoch 5/20\n",
      "374/374 [==============================] - 168s 449ms/step - loss: 1.0873 - accuracy: 0.5676 - val_loss: 1.0443 - val_accuracy: 0.5826\n",
      "Epoch 6/20\n",
      "374/374 [==============================] - 169s 453ms/step - loss: 1.0344 - accuracy: 0.5901 - val_loss: 1.0017 - val_accuracy: 0.6046\n",
      "Epoch 7/20\n",
      "374/374 [==============================] - 180s 480ms/step - loss: 0.9923 - accuracy: 0.6121 - val_loss: 0.9804 - val_accuracy: 0.6111\n",
      "Epoch 8/20\n",
      "374/374 [==============================] - 177s 473ms/step - loss: 0.9632 - accuracy: 0.6239 - val_loss: 0.9475 - val_accuracy: 0.6245\n",
      "Epoch 9/20\n",
      "374/374 [==============================] - 169s 451ms/step - loss: 0.9307 - accuracy: 0.6376 - val_loss: 0.9227 - val_accuracy: 0.6377\n",
      "Epoch 10/20\n",
      "374/374 [==============================] - 173s 464ms/step - loss: 0.9054 - accuracy: 0.6479 - val_loss: 0.9142 - val_accuracy: 0.6372\n",
      "Epoch 11/20\n",
      "374/374 [==============================] - 179s 479ms/step - loss: 0.8784 - accuracy: 0.6595 - val_loss: 0.8896 - val_accuracy: 0.6527\n",
      "Epoch 12/20\n",
      "374/374 [==============================] - 189s 506ms/step - loss: 0.8580 - accuracy: 0.6718 - val_loss: 0.8873 - val_accuracy: 0.6514\n",
      "Epoch 13/20\n",
      "374/374 [==============================] - 179s 478ms/step - loss: 0.8384 - accuracy: 0.6785 - val_loss: 0.8712 - val_accuracy: 0.6590\n",
      "Epoch 14/20\n",
      "374/374 [==============================] - 179s 478ms/step - loss: 0.8130 - accuracy: 0.6863 - val_loss: 0.8767 - val_accuracy: 0.6559\n",
      "Epoch 15/20\n",
      "374/374 [==============================] - 175s 467ms/step - loss: 0.8005 - accuracy: 0.6917 - val_loss: 0.8485 - val_accuracy: 0.6709\n",
      "Epoch 16/20\n",
      "374/374 [==============================] - 174s 466ms/step - loss: 0.7789 - accuracy: 0.7025 - val_loss: 0.8538 - val_accuracy: 0.6637\n",
      "Epoch 17/20\n",
      "374/374 [==============================] - 175s 467ms/step - loss: 0.7613 - accuracy: 0.7092 - val_loss: 0.8336 - val_accuracy: 0.6796\n",
      "Epoch 18/20\n",
      "374/374 [==============================] - 184s 491ms/step - loss: 0.7428 - accuracy: 0.7168 - val_loss: 0.8311 - val_accuracy: 0.6806\n",
      "Epoch 19/20\n",
      "374/374 [==============================] - 180s 481ms/step - loss: 0.7232 - accuracy: 0.7268 - val_loss: 0.8268 - val_accuracy: 0.6839\n",
      "Epoch 20/20\n",
      "374/374 [==============================] - 174s 466ms/step - loss: 0.7036 - accuracy: 0.7322 - val_loss: 0.8313 - val_accuracy: 0.6861\n"
     ]
    }
   ],
   "source": [
    "#log my training performance\n",
    "logdir='logs'\n",
    "tensorboard_callback = tf.keras.callbacks.TensorBoard(log_dir=logdir)\n",
    "# Train the neural network/model\n",
    "emotion_model_info=emotion_model.fit(train_generator, epochs=20, validation_data=validation_generator, callbacks=[tensorboard_callback])\n"
   ]
  },
  {
   "cell_type": "markdown",
   "metadata": {},
   "source": [
    " # Performance"
   ]
  },
  {
   "cell_type": "code",
   "execution_count": 15,
   "metadata": {},
   "outputs": [
    {
     "data": {
      "image/png": "[encoded data removed]",
      "text/plain": [
       "<Figure size 640x480 with 1 Axes>"
      ]
     },
     "metadata": {},
     "output_type": "display_data"
    }
   ],
   "source": [
    "#Loss data \n",
    "fig = plt.figure()\n",
    "plt.plot(emotion_model_info.history['loss'], color='teal', label='loss')\n",
    "plt.plot(emotion_model_info.history['val_loss'], color='orange', label='val_loss')\n",
    "fig.suptitle('Loss', fontsize=20)\n",
    "plt.legend(loc=\"upper left\")\n",
    "plt.show()"
   ]
  },
  {
   "cell_type": "code",
   "execution_count": 16,
   "metadata": {},
   "outputs": [
    {
     "data": {
      "image/png": "[encoded data removed]",
      "text/plain": [
       "<Figure size 640x480 with 1 Axes>"
      ]
     },
     "metadata": {},
     "output_type": "display_data"
    }
   ],
   "source": [
    "#accuracy\n",
    "fig = plt.figure()\n",
    "plt.plot(emotion_model_info.history['accuracy'], color='teal', label='accuracy')\n",
    "plt.plot(emotion_model_info.history['val_accuracy'], color='orange', label='val_accuracy')\n",
    "fig.suptitle('Accuracy', fontsize=20)\n",
    "plt.legend(loc=\"upper left\")\n",
    "plt.show()"
   ]
  },
  {
   "cell_type": "markdown",
   "metadata": {},
   "source": [
    "# Save Model"
   ]
  },
  {
   "cell_type": "code",
   "execution_count": 17,
   "metadata": {},
   "outputs": [],
   "source": [
    "# save model structure in jason file\n",
    "model_json = emotion_model.to_json()\n",
    "with open(\"emotion_model.json\", \"w\") as json_file:\n",
    "    json_file.write(model_json)\n",
    "\n",
    "# save trained model weight in .h5 file\n",
    "emotion_model.save_weights('emotion_model.h5')"
   ]
  },
  {
   "cell_type": "code",
   "execution_count": null,
   "metadata": {},
   "outputs": [],
   "source": []
  }
 ],
 "metadata": {
  "kernelspec": {
   "display_name": "Python 3 (ipykernel)",
   "language": "python",
   "name": "python3"
  },
  "language_info": {
   "codemirror_mode": {
    "name": "ipython",
    "version": 3
   },
   "file_extension": ".py",
   "mimetype": "text/x-python",
   "name": "python",
   "nbconvert_exporter": "python",
   "pygments_lexer": "ipython3",
   "version": "3.9.13"
  }
 },
 "nbformat": 4,
 "nbformat_minor": 2
}
